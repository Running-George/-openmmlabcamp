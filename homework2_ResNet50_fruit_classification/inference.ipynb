{
 "cells": [
  {
   "cell_type": "code",
   "execution_count": 5,
   "id": "78b21c30-2201-4e9b-afde-981f41e94a2e",
   "metadata": {},
   "outputs": [],
   "source": [
    "import os\n",
    "os.chdir('/home/featurize/work/mmlabcamp/hw2/mmpretrain')"
   ]
  },
  {
   "cell_type": "code",
   "execution_count": 7,
   "id": "b2cd208b-8113-448b-b992-c460c02515ac",
   "metadata": {},
   "outputs": [
    {
     "name": "stdout",
     "output_type": "stream",
     "text": [
      "06/08 20:32:20 - mmengine - \u001b[4m\u001b[97mINFO\u001b[0m - Because batch augmentations are enabled, the data preprocessor automatically enables the `to_onehot` option to generate one-hot format labels.\n",
      "Loads checkpoint by local backend from path: checkpoint/resnet50_finetune_xiaoqi.pth\n"
     ]
    },
    {
     "data": {
      "text/html": [
       "<pre style=\"white-space:pre;overflow-x:auto;line-height:normal;font-family:Menlo,'DejaVu Sans Mono',consolas,'Courier New',monospace\"></pre>\n"
      ],
      "text/plain": []
     },
     "metadata": {},
     "output_type": "display_data"
    },
    {
     "name": "stderr",
     "output_type": "stream",
     "text": [
      "/environment/miniconda3/lib/python3.8/site-packages/mmengine/visualization/utils.py:240: UserWarning: Glyph 27060 (\\N{CJK UNIFIED IDEOGRAPH-69B4}) missing from current font.\n",
      "  s, (width, height) = canvas.print_to_buffer()\n",
      "/environment/miniconda3/lib/python3.8/site-packages/mmengine/visualization/utils.py:240: UserWarning: Glyph 33714 (\\N{CJK UNIFIED IDEOGRAPH-83B2}) missing from current font.\n",
      "  s, (width, height) = canvas.print_to_buffer()\n"
     ]
    },
    {
     "data": {
      "text/plain": [
       "[{'pred_scores': array([3.0989319e-03, 9.6172153e-04, 4.1856710e-04, 9.6164457e-03,\n",
       "         4.7356738e-03, 3.7500584e-03, 7.0923008e-05, 2.7311163e-04,\n",
       "         6.8454663e-03, 9.1114563e-01, 5.6541007e-04, 4.8366719e-04,\n",
       "         2.3442111e-03, 5.7135872e-04, 1.4145899e-03, 1.2990543e-02,\n",
       "         4.3639116e-04, 1.0420645e-02, 1.0613437e-03, 5.9633661e-04,\n",
       "         7.9787817e-05, 2.3909367e-04, 1.0986112e-02, 7.0845947e-04,\n",
       "         1.4912755e-03, 5.1618041e-04, 5.9202639e-04, 9.7049790e-04,\n",
       "         1.2860791e-03, 1.1329586e-02], dtype=float32),\n",
       "  'pred_label': 9,\n",
       "  'pred_score': 0.9111456274986267,\n",
       "  'pred_class': '榴莲'}]"
      ]
     },
     "execution_count": 7,
     "metadata": {},
     "output_type": "execute_result"
    }
   ],
   "source": [
    "# 导入推理工具包\n",
    "from mmpretrain import ImageClassificationInferencer\n",
    "\n",
    "\n",
    "# 设置推理配置文件和训练权重\n",
    "inferencer = ImageClassificationInferencer('resnet50_finetune.py', pretrained='checkpoint/resnet50_finetune_xiaoqi.pth')\n",
    "\n",
    "\n",
    "# 对指定图片做推理\n",
    "inferencer(\"demo/4.jpg\", show=True)"
   ]
  },
  {
   "cell_type": "code",
   "execution_count": null,
   "id": "9d9df135-dcbe-45c7-a5ea-939251871adb",
   "metadata": {},
   "outputs": [],
   "source": []
  }
 ],
 "metadata": {
  "kernelspec": {
   "display_name": "Python 3 (ipykernel)",
   "language": "python",
   "name": "python3"
  },
  "language_info": {
   "codemirror_mode": {
    "name": "ipython",
    "version": 3
   },
   "file_extension": ".py",
   "mimetype": "text/x-python",
   "name": "python",
   "nbconvert_exporter": "python",
   "pygments_lexer": "ipython3",
   "version": "3.8.11"
  }
 },
 "nbformat": 4,
 "nbformat_minor": 5
}
